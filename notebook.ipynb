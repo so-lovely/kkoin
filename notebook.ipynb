{
 "cells": [
  {
   "cell_type": "code",
   "execution_count": null,
   "metadata": {},
   "outputs": [],
   "source": [
    "import pyautogui"
   ]
  },
  {
   "cell_type": "code",
   "execution_count": null,
   "metadata": {},
   "outputs": [],
   "source": [
    "pyautogui.position()"
   ]
  },
  {
   "cell_type": "code",
   "execution_count": null,
   "metadata": {},
   "outputs": [],
   "source": [
    "pyautogui.size()"
   ]
  },
  {
   "cell_type": "code",
   "execution_count": null,
   "metadata": {},
   "outputs": [],
   "source": [
    "pyautogui.onScreen(1920,200)"
   ]
  },
  {
   "cell_type": "code",
   "execution_count": null,
   "metadata": {},
   "outputs": [],
   "source": [
    "pyautogui.moveTo(100, 200, duration=10)  # move mouse to XY coordinates over num_second seconds"
   ]
  },
  {
   "cell_type": "code",
   "execution_count": null,
   "metadata": {},
   "outputs": [],
   "source": [
    "pyautogui.moveRel(10, 20, duration=40)  # move mouse relative to its current position"
   ]
  },
  {
   "cell_type": "code",
   "execution_count": null,
   "metadata": {},
   "outputs": [],
   "source": [
    "pyautogui.dragTo(x, y, duration=num_seconds)  # drag mouse to XY\n",
    "pyautogui.dragRel(xOffset, yOffset, duration=num_seconds)  # drag mouse relative to its current position"
   ]
  },
  {
   "cell_type": "code",
   "execution_count": null,
   "metadata": {},
   "outputs": [],
   "source": [
    "pyautogui.click(x=moveToX, y=moveToY, clicks=num_of_clicks, interval=secs_between_clicks, button='left')"
   ]
  },
  {
   "cell_type": "markdown",
   "metadata": {},
   "source": [
    "# Positive scrolling will scroll up, negative scrolling will scroll down:"
   ]
  },
  {
   "cell_type": "code",
   "execution_count": null,
   "metadata": {},
   "outputs": [],
   "source": [
    "pyautogui.scroll(amount_to_scroll, x=moveToX, y=moveToY)"
   ]
  },
  {
   "cell_type": "markdown",
   "metadata": {},
   "source": [
    "# Individual button down and up events can be called separately:"
   ]
  },
  {
   "cell_type": "code",
   "execution_count": null,
   "metadata": {},
   "outputs": [],
   "source": [
    "import time"
   ]
  },
  {
   "cell_type": "code",
   "execution_count": null,
   "metadata": {},
   "outputs": [],
   "source": [
    "pyautogui.mouseDown(x=300, y=400, button='left')\n",
    "time.sleep(10)\n",
    "pyautogui.mouseUp(x=200, y=100, button='right')"
   ]
  },
  {
   "cell_type": "code",
   "execution_count": null,
   "metadata": {},
   "outputs": [],
   "source": [
    "pyautogui.typewrite('Hello world!\\n', interval=10)  # useful for entering text, newline is Enter"
   ]
  },
  {
   "cell_type": "code",
   "execution_count": null,
   "metadata": {},
   "outputs": [],
   "source": [
    "pyautogui.typewrite(['a', 'b', 'c', 'left', 'backspace', 'enter', 'f1'], interval=10)"
   ]
  },
  {
   "cell_type": "code",
   "execution_count": null,
   "metadata": {},
   "outputs": [],
   "source": [
    "pyautogui.hotkey('ctrl', 'c')  # ctrl-c to copy\n",
    "pyautogui.hotkey('ctrl', 'v')  # ctrl-v to paste"
   ]
  },
  {
   "cell_type": "code",
   "execution_count": null,
   "metadata": {},
   "outputs": [],
   "source": [
    "pyautogui.keyDown(key_name)\n",
    "pyautogui.keyUp(key_name)"
   ]
  },
  {
   "cell_type": "code",
   "execution_count": 24,
   "metadata": {},
   "outputs": [],
   "source": [
    "pyautogui.alert('This displays some text with an OK button.')\n",
    "pyautogui.confirm('This displays text and has an OK and Cancel button.')\n",
    "pyautogui.prompt('This lets the user type in a string and press OK.')"
   ]
  },
  {
   "cell_type": "code",
   "execution_count": null,
   "metadata": {},
   "outputs": [],
   "source": [
    "pyautogui.screenshot()  # returns a Pillow/PIL Image object\n",
    "#<PIL.Image.Image image mode=RGB size=1920x1080 at 0x24C3EF0>\n",
    "pyautogui.screenshot('foo.png')  # returns a Pillow/PIL Image object, and saves it to a file\n",
    "#<PIL.Image.Image image mode=RGB size=1920x1080 at 0x31AA198>"
   ]
  },
  {
   "cell_type": "code",
   "execution_count": null,
   "metadata": {},
   "outputs": [],
   "source": [
    "pyautogui.locateOnScreen('looksLikeThis.png')\n",
    "(863, 417, 70, 13)"
   ]
  },
  {
   "cell_type": "code",
   "execution_count": null,
   "metadata": {},
   "outputs": [],
   "source": [
    "for i in pyautogui.locateAllOnScreen('looksLikeThis.png')\n",
    "...\n",
    "...\n",
    "(863, 117, 70, 13)\n",
    "(623, 137, 70, 13)\n",
    "(853, 577, 70, 13)\n",
    "(883, 617, 70, 13)\n",
    "(973, 657, 70, 13)\n",
    "(933, 877, 70, 13)"
   ]
  },
  {
   "cell_type": "code",
   "execution_count": null,
   "metadata": {},
   "outputs": [],
   "source": [
    "pyautogui.locateCenterOnScreen('looksLikeThis.png')  # returns center x and y\n",
    "(898, 423)"
   ]
  },
  {
   "cell_type": "code",
   "execution_count": 33,
   "metadata": {},
   "outputs": [
    {
     "data": {
      "text/plain": [
       "[Win32Window(hWnd=328946)]"
      ]
     },
     "execution_count": 33,
     "metadata": {},
     "output_type": "execute_result"
    }
   ],
   "source": [
    "pyautogui.getWindows() # returns a dict of window titles mapped to window IDs\n",
    "pyautogui.getWindow(str_title_or_int_id) # returns a “Win” object\n",
    "win.move(x, y)\n",
    "win.resize(width, height)\n",
    "win.maximize()\n",
    "win.minimize()\n",
    "win.restore()\n",
    "win.close()\n",
    "win.position() # returns (x, y) of top-left corner\n",
    "win.moveRel(x=0, y=0) # moves relative to the x, y of top-left corner of the window\n",
    "win.clickRel(x=0, y=0, clicks=1, interval=0.0, button=’left’) # click relative to the x, y of top-left corner of the window\n",
    "Additions to screenshot functionality so that it can capture specific windows instead of full screen."
   ]
  },
  {
   "cell_type": "code",
   "execution_count": 81,
   "metadata": {},
   "outputs": [
    {
     "data": {
      "text/plain": [
       "['',\n",
       " 'notebook.ipynb - Yescoin - Visual Studio Code',\n",
       " 'Task Manager',\n",
       " '',\n",
       " '',\n",
       " 'Settings',\n",
       " 'Settings',\n",
       " 'Windows Input Experience',\n",
       " '',\n",
       " '',\n",
       " '',\n",
       " '',\n",
       " '',\n",
       " '',\n",
       " '[pyautogui] 프로그램 창 다루기 - Google Chrome',\n",
       " 'Program Manager']"
      ]
     },
     "execution_count": 81,
     "metadata": {},
     "output_type": "execute_result"
    }
   ],
   "source": [
    "pyautogui.getAllTitles()"
   ]
  },
  {
   "cell_type": "code",
   "execution_count": 82,
   "metadata": {},
   "outputs": [],
   "source": [
    "chrome = pyautogui.getWindowsWithTitle('Chrome')[0]"
   ]
  },
  {
   "cell_type": "code",
   "execution_count": 95,
   "metadata": {},
   "outputs": [
    {
     "data": {
      "text/plain": [
       "1018"
      ]
     },
     "execution_count": 95,
     "metadata": {},
     "output_type": "execute_result"
    }
   ],
   "source": [
    "chrome.box.left"
   ]
  },
  {
   "cell_type": "code",
   "execution_count": 74,
   "metadata": {},
   "outputs": [],
   "source": [
    "chrome.hide()"
   ]
  }
 ],
 "metadata": {
  "kernelspec": {
   "display_name": ".venv",
   "language": "python",
   "name": "python3"
  },
  "language_info": {
   "codemirror_mode": {
    "name": "ipython",
    "version": 3
   },
   "file_extension": ".py",
   "mimetype": "text/x-python",
   "name": "python",
   "nbconvert_exporter": "python",
   "pygments_lexer": "ipython3",
   "version": "3.12.3"
  }
 },
 "nbformat": 4,
 "nbformat_minor": 2
}
