{
 "cells": [
  {
   "cell_type": "code",
   "execution_count": 1,
   "metadata": {},
   "outputs": [],
   "source": [
    "import pyautogui\n",
    "import time\n",
    "import keyboard\n",
    "import pyscreeze\n",
    "import sys"
   ]
  },
  {
   "cell_type": "code",
   "execution_count": null,
   "metadata": {},
   "outputs": [],
   "source": [
    "def CoinTouch():\n",
    "    try:\n",
    "        coin = pyautogui.locateCenterOnScreen('coin.png')\n",
    "        pyautogui.moveTo(coin[0],coin[1])\n",
    "    except:\n",
    "        print(\"Coin not found\")"
   ]
  },
  {
   "cell_type": "code",
   "execution_count": null,
   "metadata": {},
   "outputs": [],
   "source": [
    "def BoxTouch():\n",
    "    try:\n",
    "        box = pyautogui.locateCenterOnScreen('box.png')\n",
    "        pyautogui.moveTo(box[0],box[1])\n",
    "    except:\n",
    "        print(\"Box not found\")"
   ]
  },
  {
   "cell_type": "code",
   "execution_count": null,
   "metadata": {},
   "outputs": [],
   "source": [
    "def ToEndPoint():\n",
    "    pyautogui.moveRel(330,0, duration=0.3)\n",
    "    pyautogui.moveRel(0,25, duration=0.3)\n",
    "    pyautogui.moveRel(-330, 0, duration=0.3)\n",
    "    if keyboard.is_pressed('ESC'):\n",
    "        sys.exit()\n",
    "    pyautogui.moveRel(0, 25, duration=0.3)\n",
    "    pyautogui.moveRel(330,0, duration=0.3)\n",
    "    pyautogui.moveRel(0,25, duration=0.3)\n",
    "    pyautogui.moveRel(-330, 0, duration=0.3)\n",
    "    pyautogui.moveRel(0, 25, duration=0.3)\n",
    "    pyautogui.moveRel(330,0, duration=0.3)\n",
    "    pyautogui.moveRel(0,25, duration=0.3)\n",
    "    if keyboard.is_pressed('ESC'):\n",
    "        sys.exit()\n",
    "    pyautogui.moveRel(-330, 0, duration=0.3)\n",
    "    pyautogui.moveRel(0, 25, duration=0.3)\n",
    "    pyautogui.moveRel(330,0, duration=0.3)\n",
    "    pyautogui.moveRel(0,25, duration=0.3)\n",
    "    if keyboard.is_pressed('ESC'):\n",
    "        sys.exit()\n",
    "    pyautogui.moveRel(-330, 0, duration=0.3)\n",
    "    pyautogui.moveRel(0, 25, duration=0.3)\n",
    "    pyautogui.moveRel(330,0, duration=0.3)"
   ]
  },
  {
   "cell_type": "code",
   "execution_count": null,
   "metadata": {},
   "outputs": [],
   "source": [
    "def ToStartPoint():\n",
    "    pyautogui.moveRel(-330,0, duration=0.3)\n",
    "    pyautogui.moveRel(0,-25, duration=0.3)\n",
    "    pyautogui.moveRel(330, 0, duration=0.3)\n",
    "    pyautogui.moveRel(0, -25, duration=0.3)\n",
    "    if keyboard.is_pressed('ESC'):\n",
    "        sys.exit()\n",
    "    pyautogui.moveRel(-330,0, duration=0.3)\n",
    "    pyautogui.moveRel(0,-25, duration=0.3)\n",
    "    pyautogui.moveRel(330, 0, duration=0.3)\n",
    "    pyautogui.moveRel(0, -25, duration=0.3)\n",
    "    pyautogui.moveRel(-330,0, duration=0.3)\n",
    "    if keyboard.is_pressed('ESC'):\n",
    "        sys.exit()\n",
    "    pyautogui.moveRel(0,-25, duration=0.3)\n",
    "    pyautogui.moveRel(330, 0, duration=0.3)\n",
    "    pyautogui.moveRel(0, -25, duration=0.3)\n",
    "    pyautogui.moveRel(-330,0, duration=0.3)\n",
    "    pyautogui.moveRel(0,-25, duration=0.3)\n",
    "    if keyboard.is_pressed('ESC'):\n",
    "        sys.exit()\n",
    "    pyautogui.moveRel(330, 0, duration=0.3)\n",
    "    pyautogui.moveRel(0, -25, duration=0.3)\n",
    "    pyautogui.moveRel(-330,0, duration=0.3)"
   ]
  },
  {
   "cell_type": "code",
   "execution_count": null,
   "metadata": {},
   "outputs": [],
   "source": [
    "while keyboard.is_pressed('`') == False:\n",
    "    time.sleep(1)"
   ]
  },
  {
   "cell_type": "code",
   "execution_count": null,
   "metadata": {},
   "outputs": [],
   "source": [
    "while True:\n",
    "    if keyboard.is_pressed('ESC'):\n",
    "        sys.exit()\n",
    "    CoinTouch()\n",
    "    BoxTouch()\n",
    "    \n",
    "    \n"
   ]
  },
  {
   "cell_type": "code",
   "execution_count": 2,
   "metadata": {},
   "outputs": [],
   "source": [
    "import cv2\n",
    "from matplotlib import pyplot as plt"
   ]
  },
  {
   "cell_type": "code",
   "execution_count": 4,
   "metadata": {},
   "outputs": [],
   "source": [
    "img = cv2.imread('coin.png')"
   ]
  },
  {
   "cell_type": "code",
   "execution_count": 5,
   "metadata": {},
   "outputs": [
    {
     "ename": "error",
     "evalue": "OpenCV(4.10.0) D:\\a\\opencv-python\\opencv-python\\opencv\\modules\\imgproc\\src\\demosaicing.cpp:1701: error: (-215:Assertion failed) scn == 1 && dcn == 1 in function 'cv::demosaicing'\n",
     "output_type": "error",
     "traceback": [
      "\u001b[1;31m---------------------------------------------------------------------------\u001b[0m",
      "\u001b[1;31merror\u001b[0m                                     Traceback (most recent call last)",
      "Cell \u001b[1;32mIn[5], line 1\u001b[0m\n\u001b[1;32m----> 1\u001b[0m img_gray \u001b[38;5;241m=\u001b[39m \u001b[43mcv2\u001b[49m\u001b[38;5;241;43m.\u001b[39;49m\u001b[43mcvtColor\u001b[49m\u001b[43m(\u001b[49m\u001b[43mimg\u001b[49m\u001b[43m,\u001b[49m\u001b[43m \u001b[49m\u001b[43mcv2\u001b[49m\u001b[38;5;241;43m.\u001b[39;49m\u001b[43mCOLOR_BAYER_BG2GRAY\u001b[49m\u001b[43m)\u001b[49m\n",
      "\u001b[1;31merror\u001b[0m: OpenCV(4.10.0) D:\\a\\opencv-python\\opencv-python\\opencv\\modules\\imgproc\\src\\demosaicing.cpp:1701: error: (-215:Assertion failed) scn == 1 && dcn == 1 in function 'cv::demosaicing'\n"
     ]
    }
   ],
   "source": [
    "img_gray = cv2.cvtColor(img, cv2.COLOR_BAYER_BG2GRAY)"
   ]
  },
  {
   "cell_type": "code",
   "execution_count": null,
   "metadata": {},
   "outputs": [],
   "source": []
  },
  {
   "cell_type": "code",
   "execution_count": null,
   "metadata": {},
   "outputs": [],
   "source": [
    "im"
   ]
  }
 ],
 "metadata": {
  "kernelspec": {
   "display_name": ".venv",
   "language": "python",
   "name": "python3"
  },
  "language_info": {
   "codemirror_mode": {
    "name": "ipython",
    "version": 3
   },
   "file_extension": ".py",
   "mimetype": "text/x-python",
   "name": "python",
   "nbconvert_exporter": "python",
   "pygments_lexer": "ipython3",
   "version": "3.12.3"
  }
 },
 "nbformat": 4,
 "nbformat_minor": 2
}
